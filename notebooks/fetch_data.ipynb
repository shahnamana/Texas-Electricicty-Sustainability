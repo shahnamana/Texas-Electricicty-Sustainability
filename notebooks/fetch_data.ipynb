{
 "cells": [
  {
   "cell_type": "code",
   "execution_count": null,
   "metadata": {
    "vscode": {
     "languageId": "plaintext"
    }
   },
   "outputs": [],
   "source": [
    "import requests\n",
    "import pandas as pd\n",
    "  \n",
    "# url_template = r'https://api.eia.gov/v2/electricity/rto/region-data/data/?frequency=hourly&data[0]=value&start=2023-11-15T00&end=2024-04-15T00&sort[0][column]=period&sort[0][direction]=desc&offset={offset}&length=5000&api_key=<api_key>'\n",
    " \n",
    "# get data from the api url\n",
    "url_template = r'https://api.eia.gov/v2/electricity/rto/daily-region-sub-ba-data/data/?frequency=daily&data[0]=value&facets[subba][]=NCEN&facets[parent][]=ERCO&facets[timezone][]=Central&sort[0][column]=period&sort[0][direction]=asc&offset=0&length=50000&api_key=<api_key>'\n"
   ]
  },
  {
   "cell_type": "code",
   "execution_count": null,
   "metadata": {
    "vscode": {
     "languageId": "plaintext"
    }
   },
   "outputs": [],
   "source": [
    "def fetch_data(offset):\n",
    "    url = url_template.format(offset=offset)\n",
    "    response = requests.get(url)\n",
    "    if response.status_code == 200:\n",
    "        return response.json()\n",
    "    else:\n",
    "        print(f\"Error: Unable to fetch data (Status code: {response.status_code})\")\n",
    "        return None\n",
    " \n",
    "def fetch_all_data():\n",
    "    all_data = []\n",
    "    offset = 0\n",
    "    while True:\n",
    "        data = fetch_data(offset)\n",
    "        if data is None:\n",
    "            break\n",
    "        all_data.extend(data['response']['data'])\n",
    "        offset += 5000\n",
    "        if len(data['response']['data']) < 5000:  # Adjust this value based on the total number of records\n",
    "            break\n",
    "    return all_data\n",
    " "
   ]
  },
  {
   "cell_type": "code",
   "execution_count": null,
   "metadata": {
    "vscode": {
     "languageId": "plaintext"
    }
   },
   "outputs": [],
   "source": [
    "def main():\n",
    "    all_data = fetch_all_data()\n",
    " \n",
    "    # Create DataFrame from all the retrieved data\n",
    "    df = pd.DataFrame(all_data)\n",
    " \n",
    "    # Write DataFrame to an Excel file\n",
    "    output_excel_path = 'electricity_data.xlsx'\n",
    "    df.to_excel(output_excel_path, index=False)\n",
    "    print(f\"DataFrame successfully written to {output_excel_path}\")"
   ]
  },
  {
   "cell_type": "code",
   "execution_count": null,
   "metadata": {
    "vscode": {
     "languageId": "plaintext"
    }
   },
   "outputs": [],
   "source": [
    "if __name__ == \"__main__\":\n",
    "    main()"
   ]
  }
 ],
 "metadata": {
  "language_info": {
   "name": "python"
  }
 },
 "nbformat": 4,
 "nbformat_minor": 2
}
